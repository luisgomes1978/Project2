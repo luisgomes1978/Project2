{
  "cells": [
    {
      "cell_type": "markdown",
      "metadata": {
        "id": "view-in-github",
        "colab_type": "text"
      },
      "source": [
        "<a href=\"https://colab.research.google.com/github/luisgomes1978/Project2/blob/main/C%C3%B3pia_de_%5BImers%C3%A3o_IA_2%C2%AA_edi%C3%A7%C3%A3o%5D_C%C3%B3digo_Aula_04.ipynb\" target=\"_parent\"><img src=\"https://colab.research.google.com/assets/colab-badge.svg\" alt=\"Open In Colab\"/></a>"
      ]
    },
    {
      "cell_type": "code",
      "execution_count": 1,
      "metadata": {
        "id": "nFQLKQ6hfXch"
      },
      "outputs": [],
      "source": [
        "#Instalando o SDK do Google\n",
        "!pip install -q -U google-generativeai\n",
        "!pip install -q -U colorama"
      ]
    },
    {
      "cell_type": "code",
      "execution_count": 2,
      "metadata": {
        "id": "IthzwfnAfcsi"
      },
      "outputs": [],
      "source": [
        "#Configurações iniciais\n",
        "import google.generativeai as genai\n",
        "from google.colab import userdata\n",
        "from colorama import Fore, Style\n",
        "\n",
        "# Configure a API GenerativeAI com a chave de API armazenada no Colab\n",
        "api_key = userdata.get('SECRET')\n",
        "genai.configure(api_key=api_key)"
      ]
    },
    {
      "cell_type": "code",
      "execution_count": 3,
      "metadata": {
        "colab": {
          "base_uri": "https://localhost:8080/",
          "height": 136
        },
        "id": "iD3ihugymWBt",
        "outputId": "4669d37f-a392-4765-ad13-3de07f488943"
      },
      "outputs": [
        {
          "output_type": "stream",
          "name": "stdout",
          "text": [
            "models/gemini-1.0-pro\n",
            "models/gemini-1.0-pro-001\n",
            "models/gemini-1.0-pro-latest\n",
            "models/gemini-1.0-pro-vision-latest\n",
            "models/gemini-1.5-pro-latest\n",
            "models/gemini-pro\n",
            "models/gemini-pro-vision\n"
          ]
        }
      ],
      "source": [
        "#Listando os modelos disponíveis\n",
        "for m in genai.list_models():\n",
        "  if 'generateContent' in m.supported_generation_methods:\n",
        "    print(m.name)"
      ]
    },
    {
      "cell_type": "code",
      "execution_count": 4,
      "metadata": {
        "id": "O1ochaeyDn_o"
      },
      "outputs": [],
      "source": [
        "generation_config = {\n",
        "  \"candidate_count\": 1,\n",
        "  \"temperature\": 0.5,\n",
        "}"
      ]
    },
    {
      "cell_type": "code",
      "execution_count": 5,
      "metadata": {
        "id": "jwBv7DofDofw"
      },
      "outputs": [],
      "source": [
        "safety_settings={\n",
        "    'HATE': 'BLOCK_NONE',\n",
        "    'HARASSMENT': 'BLOCK_NONE',\n",
        "    'SEXUAL' : 'BLOCK_NONE',\n",
        "    'DANGEROUS' : 'BLOCK_NONE'\n",
        "    }"
      ]
    },
    {
      "cell_type": "code",
      "execution_count": 6,
      "metadata": {
        "id": "NIiSs1R5mVJE"
      },
      "outputs": [],
      "source": [
        "model = genai.GenerativeModel(model_name='gemini-1.0-pro',\n",
        "                                  generation_config=generation_config,\n",
        "                                  safety_settings=safety_settings,)"
      ]
    },
    {
      "cell_type": "code",
      "execution_count": 7,
      "metadata": {
        "id": "vrRjhT2rlrU_"
      },
      "outputs": [],
      "source": [
        "#response = model.generate_content(\"Que empresa criou o modelo de IA Gemini?\")\n",
        "#response.text"
      ]
    },
    {
      "cell_type": "code",
      "execution_count": 13,
      "metadata": {
        "id": "KpaQ6hm5f2_J",
        "colab": {
          "base_uri": "https://localhost:8080/",
          "height": 340
        },
        "outputId": "6c84ddf5-e979-4991-f416-7dad348eb713"
      },
      "outputs": [
        {
          "output_type": "stream",
          "name": "stdout",
          "text": [
            "\u001b[94m    ------- Sistema de sugestão de passeios em cidades pelo mundo   ------- \n",
            "\n",
            "\u001b[0m\n",
            "Digite seu nome: Luis\n",
            "Digite sua idade: 45\n",
            "Digite a cidade que quer visitar: Florianopolis\n",
            "\n",
            "\n",
            "\u001b[94mOlá Luis, segue sugestões da cidade Florianopolis\n",
            "\n",
            "\n",
            "\u001b[0m\n",
            "| **Atração** | **Custo Médio** | **Avaliação** |\n",
            "|---|---|---|\n",
            "| Praia da Joaquina | R$ 0,00 (gratuito) | 4,5/5 |\n",
            "| Ponte Hercílio Luz | R$ 10,00 | 4,0/5 |\n",
            "| Mercado Público | R$ 0,00 (gratuito) | 4,2/5 |\n",
            "| Fortaleza de Santa Cruz de Anhatomirim | R$ 20,00 | 4,3/5 |\n",
            "| Parque Nacional da Serra do Tabuleiro | R$ 15,00 | 4,7/5 |\n"
          ]
        }
      ],
      "source": [
        "print(Fore.LIGHTBLUE_EX + \"    ------- Sistema de sugestão de passeios em cidades pelo mundo   ------- \\n\")\n",
        "print(Style.RESET_ALL)  # Redefinir estilo para padrão\n",
        "\n",
        "chat = model.start_chat(history=[])\n",
        "nome = input(\"Digite seu nome: \")\n",
        "idade = (int(input(\"Digite sua idade: \")))\n",
        "cidade = input(\"Digite a cidade que quer visitar: \")\n",
        "prompt = \"Eu me chamo \" + nome + \", tenho \" + (str(idade)) + \" anos, eu gostaria de visitar a cidade \" + cidade + \"por favor me de 5 dicas de atracoes em formato tabela com uma coluna informando o nome da atração, uma coluna com o custo médio, uma coluna com avaliação da atração, preencher com espaço em branco cada célula para completar e deixar as colunas com a mesma largura entre as linhas.\"\n",
        "\n",
        "response = chat.send_message(prompt)\n",
        "\n",
        "\n",
        "print(\"\\n\")\n",
        "print(Fore.LIGHTBLUE_EX + \"Olá \" + nome + \", segue sugestões da cidade \" + cidade + '\\n\\n')\n",
        "print(Style.RESET_ALL)  # Redefinir estilo para padrão\n",
        "print(response.text)"
      ]
    }
  ],
  "metadata": {
    "colab": {
      "provenance": [],
      "include_colab_link": true
    },
    "kernelspec": {
      "display_name": "Python 3",
      "name": "python3"
    },
    "language_info": {
      "name": "python"
    }
  },
  "nbformat": 4,
  "nbformat_minor": 0
}